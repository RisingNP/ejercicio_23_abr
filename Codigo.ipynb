{
 "cells": [
  {
   "cell_type": "markdown",
   "id": "a7e6f29d",
   "metadata": {},
   "source": [
    "- Jorge Ivan Pinzon\n",
    "- Miguel Angel Nava Perez\n",
    "- Ana Luisa Parra Valencia"
   ]
  },
  {
   "cell_type": "code",
   "execution_count": 52,
   "id": "c34c1926",
   "metadata": {},
   "outputs": [],
   "source": [
    "import pandas as pd\n",
    "import numpy as np\n",
    "import seaborn as sns\n",
    "from scipy import stats \n",
    "from statsmodels.sandbox.stats.runs import runstest_1samp # para la prueba Runs \n",
    "from statsmodels.formula.api import ols #modelo lineal del ANOVA\n",
    "import statsmodels.api as sm \n",
    "from tabulate import tabulate\n",
    "from statsmodels.stats.multicomp import pairwise_tukeyhsd\n",
    "\n",
    "def test_normalityKS(data, variable): # Pruaba de Normalidad Kolmogorov-Smirnof \n",
    "    \"\"\"\n",
    "    data: arreglo de datos a evaluar la normalidad\n",
    "    variable: string con el nombre de la variable \n",
    "    \"\"\"  \n",
    "    print(f\"\\n Análisis de normalidad por Kolmogorov-Smirnov para '{variable}'\")\n",
    "\n",
    "    # Kolmogorov-Smirnov (KS) test\n",
    "    ks_stat, ks_p = stats.kstest(data, 'norm', args=(np.mean(data), np.std(data)))\n",
    "    print(f\" Estadístico = {ks_stat:.4f}, p-valor = {ks_p:.4f}\")\n",
    "\n",
    "def test_normalitySW(data, variable): # Prueba de Normalizas Shapiro-Wilks \n",
    "    \"\"\"\n",
    "    data: arreglo de datos a evaluar la normalidad\n",
    "    variable: string con el nombre de la variable \n",
    "    \"\"\"\n",
    "    print(f\"\\n Análisis de normalidad por Shapiro-Wilk para '{variable}'\")\n",
    "    # Shapiro-Wilk test\n",
    "    shapiro_stat, shapiro_p = stats.shapiro(data)\n",
    "    print(f\"Estadístico = {shapiro_stat:.4f}, p-valor = {shapiro_p:.4f}\")\n",
    "    \n",
    "def random_test(residuos):\n",
    "    \"\"\"\n",
    "    Parameters\n",
    "    ----------\n",
    "    residuos : Array\n",
    "        DESCRIPTION: Residuos del ANOVA \n",
    "\n",
    "    Returns\n",
    "    -------\n",
    "    None.\n",
    "\n",
    "    \"\"\"\n",
    "    _, p_runs = runstest_1samp(residuos, correction=True)\n",
    "\n",
    "    print(f\"Prueba de Runs: p-valor={p_runs}\")\n",
    "    \n",
    "def test_homogeneityL(var1, var2, name1, name2): # Prueba de levene\n",
    "    \"\"\"\n",
    "    var1 y var2: variables a las que se corroborará homocedasticidad \n",
    "    name1 y name2: strings con el nnombre de las variables\n",
    "    \"\"\"\n",
    "    print(f\"\\n Análisis de homocedasticidad entre '{name1}' y '{name2}'\")\n",
    "\n",
    "    # Prueba de Levene (no asume normalidad)\n",
    "    levene_stat, levene_p = stats.levene(var1, var2)\n",
    "    print(f\"Levene test: Estadístico = {levene_stat:.4f}, p-valor = {levene_p:.4f}\")\n",
    "\n",
    "def t_test_one(data,mu,variable): #Prueba T para una muestra\n",
    "    \"\"\"\n",
    "    data: arreglo de datos a comparar\n",
    "    mu: media poblacional o valor de referencia \n",
    "    variable: string con el nombre de la variable que se está comparando\n",
    "    \"\"\"\n",
    "    print(f\"Prueba T para una sola muestra para {variable}\")\n",
    "    t_stat, p_value = stats.ttest_1samp(data, mu)\n",
    "    print(f\"Estadístico = {t_stat:.4f}, valor_p = {p_value:.4f}\")\n",
    "    \n",
    "def box_cox(data): #transformación depotencia   \n",
    "\n",
    "    transformed_data, lambda_opt = stats.boxcox(data)\n",
    "    return transformed_data, lambda_opt\n",
    "\n",
    "def tukey(respuesta,factor, alfa,n_factor):\n",
    "    \"\"\"\n",
    "\n",
    "    Parameters\n",
    "    ----------\n",
    "    respuesta : Array\n",
    "        DESCRIPTION. Array con los datos de la variable respuesta\n",
    "    factor : Array\n",
    "        DESCRIPTION.Array con los niveles del factor \n",
    "    alfa : Float\n",
    "        DESCRIPTION. Valor alfa de comparación \n",
    "    n_factor : String\n",
    "        DESCRIPTION. Nombre del factor\n",
    "\n",
    "    Returns\n",
    "    -------\n",
    "    None.\n",
    "\n",
    "    \"\"\"\n",
    "    \n",
    "    tukey = pairwise_tukeyhsd(respuesta, factor, alpha=alfa)\n",
    "    print(f\"Prueba Tukey para el factor {n_factor}\")\n",
    "    print(tukey)\n",
    "    \n",
    "def kruskal_W(df,Respuesta,Factor):\n",
    "    \"\"\"\n",
    "    \n",
    "    Parameters\n",
    "    ----------\n",
    "    df : Data_Frame\n",
    "        DESCRIPTION. estructura con los datos del experimento\n",
    "    Respuesta : String\n",
    "        DESCRIPTION. nombre de la variable respuesta, key del dataframe\n",
    "    Factor : String\n",
    "        DESCRIPTION. nombre del factor, key del dataframe\n",
    "\n",
    "    Returns\n",
    "    -------\n",
    "    None.\n",
    "\n",
    "    \"\"\"\n",
    "    grupos_B = [df[Respuesta][df[Factor] == nivel] for nivel in df[Factor].unique()]\n",
    "    stat_B, p_B = stats.kruskal(*grupos_B)\n",
    "    print(f\"Kruskal-Wallis para {Factor}: H = {stat_B:.4f}, p = {p_B:.4f}\")\n",
    "    \n",
    "    \n",
    "def kruskal_interaccion(df,Respuesta,Factor1,Factor2):\n",
    "    \"\"\"\n",
    "    \n",
    "\n",
    "    Parameters\n",
    "    ----------\n",
    "    df : Data_Frame\n",
    "        DESCRIPTION. estructura con los datos del experimento\n",
    "    Respuesta : String\n",
    "        DESCRIPTION. nombre de la variable respuesta, key del dataframe\n",
    "    Factor1 : String\n",
    "        DESCRIPTION. nombre del factor1, key del dataframe\n",
    "    Factor2 : String\n",
    "        DESCRIPTION.nombre del factor12, key del dataframe\n",
    "\n",
    "    Returns\n",
    "    -------\n",
    "    None.\n",
    "\n",
    "    \"\"\"\n",
    "    \n",
    "    df['interaccion'] = df[Factor1].astype(str) + \"_\" + df[Factor2].astype(str) # se genera una columana con las combinaciones entre factores\n",
    "\n",
    "    grupos_interaccion = [df[Respuesta][df['interaccion'] == nivel] for nivel in df['interaccion'].unique()]\n",
    "    stat_int, p_int = stats.kruskal(*grupos_interaccion)\n",
    "    print(f\"Kruskal-Wallis para la interacción {Factor1}x{Factor2} p = {p_int:.4f}\")"
   ]
  },
  {
   "cell_type": "code",
   "execution_count": 53,
   "id": "c43426f9",
   "metadata": {},
   "outputs": [
    {
     "name": "stdout",
     "output_type": "stream",
     "text": [
      "\n",
      " Análisis de normalidad por Shapiro-Wilk para 'Resistencia'\n",
      "Estadístico = 0.9595, p-valor = 0.1165\n"
     ]
    }
   ],
   "source": [
    "df = pd.read_excel(\"res max.xlsx\")\n",
    "\n",
    "## Prueba de normalidad\n",
    "\n",
    "test_normalitySW(df[\"Resistencia\"] , \"Resistencia\")\n"
   ]
  },
  {
   "cell_type": "markdown",
   "id": "b0b6bdfa",
   "metadata": {},
   "source": [
    "De acuerdo a la prueba realizada, como el p-valor es mayor a alfa =0.05  se concluye que los valores de Resistencia son normales"
   ]
  },
  {
   "cell_type": "code",
   "execution_count": 54,
   "id": "86967929",
   "metadata": {},
   "outputs": [
    {
     "name": "stdout",
     "output_type": "stream",
     "text": [
      "------------------------------------------------------------\n",
      "Levene test para PVA: p-valor = 0.7434658064763798\n",
      "\n",
      "Levene test para Ciclos: p-valor = 0.060717790101133685\n"
     ]
    }
   ],
   "source": [
    "## Prueba de Homocedasticidad\n",
    "\n",
    "pva_10 = df[df[\"PVA\"] == 10]\n",
    "pva_125 = df[df[\"PVA\"]==12.5]\n",
    "pva_15 = df[df[\"PVA\"]==15]\n",
    "\n",
    "Ciclos_7 = df[df[\"CICLOS\"] == 7]\n",
    "Ciclos_11 = df[df[\"CICLOS\"] == 11]\n",
    "Ciclos_15 = df[df[\"CICLOS\"] == 15]\n",
    "print(\"---\"*20)\n",
    "_ , levene_p = stats.levene(pva_10[\"Resistencia\"] , pva_125[\"Resistencia\"] ,pva_15[\"Resistencia\"] )\n",
    "\n",
    "print(f\"Levene test para PVA: p-valor = {levene_p}\\n\")\n",
    "\n",
    "_ , levene_p = stats.levene(Ciclos_7[\"Resistencia\"] , Ciclos_11[\"Resistencia\"] , Ciclos_15[\"Resistencia\"] )\n",
    "\n",
    "print(f\"Levene test para Ciclos: p-valor = {levene_p}\")"
   ]
  },
  {
   "cell_type": "markdown",
   "id": "91334554",
   "metadata": {},
   "source": [
    "como el p-valor de la prueba de Levene da mayor a 0.05 en ambos factores, se concluye que son homocedasticos \n",
    "\n",
    "y hay indepencia, pues experimentalmente la elección de los ciclos con el valor de concentración de PVA no depende la una de la otra"
   ]
  },
  {
   "cell_type": "code",
   "execution_count": 55,
   "id": "ad6fc307",
   "metadata": {},
   "outputs": [
    {
     "name": "stdout",
     "output_type": "stream",
     "text": [
      "┏━━━━━━━━━━━━━━━━━━┳━━━━━━━━━━┳━━━━━━┳━━━━━━━━━━━┳━━━━━━━━━━━━━━━┓\n",
      "┃                  ┃   sum_sq ┃   df ┃         F ┃        PR(>F) ┃\n",
      "┣━━━━━━━━━━━━━━━━━━╋━━━━━━━━━━╋━━━━━━╋━━━━━━━━━━━╋━━━━━━━━━━━━━━━┫\n",
      "┃ Intercept        ┃ 146604   ┃    1 ┃  51.185   ┃   2.06158e-08 ┃\n",
      "┣━━━━━━━━━━━━━━━━━━╋━━━━━━━━━━╋━━━━━━╋━━━━━━━━━━━╋━━━━━━━━━━━━━━━┫\n",
      "┃ C(PVA)           ┃  57215.5 ┃    2 ┃   9.98802 ┃   0.000354328 ┃\n",
      "┣━━━━━━━━━━━━━━━━━━╋━━━━━━━━━━╋━━━━━━╋━━━━━━━━━━━╋━━━━━━━━━━━━━━━┫\n",
      "┃ C(CICLOS)        ┃  14635.8 ┃    2 ┃   2.55495 ┃   0.0917087   ┃\n",
      "┣━━━━━━━━━━━━━━━━━━╋━━━━━━━━━━╋━━━━━━╋━━━━━━━━━━━╋━━━━━━━━━━━━━━━┫\n",
      "┃ C(PVA):C(CICLOS) ┃  40009.1 ┃    4 ┃   3.49216 ┃   0.0164945   ┃\n",
      "┣━━━━━━━━━━━━━━━━━━╋━━━━━━━━━━╋━━━━━━╋━━━━━━━━━━━╋━━━━━━━━━━━━━━━┫\n",
      "┃ Residual         ┃ 103111   ┃   36 ┃ nan       ┃ nan           ┃\n",
      "┗━━━━━━━━━━━━━━━━━━┻━━━━━━━━━━┻━━━━━━┻━━━━━━━━━━━┻━━━━━━━━━━━━━━━┛\n"
     ]
    }
   ],
   "source": [
    "#%% Realizar el ANOVA \n",
    "modelo = ols('Resistencia ~ C(PVA)*C(CICLOS)', data=df).fit()\n",
    "#modelo = ols('Resistencia ~ C(PVA)+ C(CICLOS) +C(PVA):C(CICLOS)', data=df).fit()\n",
    "#modelo = ols('Resistencia ~ C(PVA)+C(CICLOS)', data=df).fit()\n",
    "\n",
    "\n",
    "anova_table = sm.stats.anova_lm(modelo, typ=3)\n",
    "\n",
    "\n",
    "# Mostrar resultados\n",
    "print(tabulate(anova_table,headers='keys',tablefmt='heavy_grid'))\n"
   ]
  },
  {
   "cell_type": "markdown",
   "id": "4c0aad9a",
   "metadata": {},
   "source": [
    "según los p-valores obtenidos, se puede concluir que los Ciclos y la interacción entre la concentración de PVA y el numero de ciclos son significativas, por otro lado, el p-valor correspondiente a la concentración de PVA es menor al alfa = 0.05, por lo que el resultado dice que este es significativo, pero aún no lo podemos eliminar pues la interaccion entre [PVA] y los Ciclos si es significativa"
   ]
  },
  {
   "cell_type": "code",
   "execution_count": 56,
   "id": "abd375a0",
   "metadata": {},
   "outputs": [
    {
     "data": {
      "image/png": "[encoded data removed]",
      "text/plain": [
       "<Figure size 640x480 with 1 Axes>"
      ]
     },
     "metadata": {},
     "output_type": "display_data"
    }
   ],
   "source": [
    "\n",
    "import matplotlib.pyplot as plt\n",
    "import seaborn as sns\n",
    "\n",
    "sns.pointplot(x='PVA', y='Resistencia', hue='CICLOS', data=df, dodge=True, markers='o')\n",
    "plt.title('Interacción PVA × CICLOS')\n",
    "plt.show()\n"
   ]
  },
  {
   "cell_type": "code",
   "execution_count": 57,
   "id": "33eccac4",
   "metadata": {},
   "outputs": [
    {
     "name": "stdout",
     "output_type": "stream",
     "text": [
      "\n",
      " Análisis de normalidad por Shapiro-Wilk para 'Residuos'\n",
      "Estadístico = 0.9248, p-valor = 0.0062\n"
     ]
    }
   ],
   "source": [
    "df['Residuos']=modelo.resid\n",
    "\n",
    "# normalidad en los residuos \n",
    "\n",
    "test_normalitySW(df['Residuos'],'Residuos')"
   ]
  },
  {
   "cell_type": "markdown",
   "id": "39f55b12",
   "metadata": {},
   "source": [
    "al hacer la prueba de Shapiro-Wilk, se obtiene un valor p de 0.0062 < alfa=0.05, por lo que tomamos la H1, que dice que los datos NO pertenecen a una distribución normal. por lo que procederemos a hacer una transformación de potencias a la variable respuesta, realizar nuevamente el ANOVA y posteriormente y aplicarles nuevamente el test de normalidad a los nuevos residuos"
   ]
  },
  {
   "cell_type": "code",
   "execution_count": 58,
   "id": "a4050a02",
   "metadata": {},
   "outputs": [
    {
     "name": "stdout",
     "output_type": "stream",
     "text": [
      "┏━━━━━━━━━━━━━━━━━━┳━━━━━━━━━━┳━━━━━━┳━━━━━━━━━━━┳━━━━━━━━━━━━━━━┓\n",
      "┃                  ┃   sum_sq ┃   df ┃         F ┃        PR(>F) ┃\n",
      "┣━━━━━━━━━━━━━━━━━━╋━━━━━━━━━━╋━━━━━━╋━━━━━━━━━━━╋━━━━━━━━━━━━━━━┫\n",
      "┃ Intercept        ┃ 146604   ┃    1 ┃  51.185   ┃   2.06158e-08 ┃\n",
      "┣━━━━━━━━━━━━━━━━━━╋━━━━━━━━━━╋━━━━━━╋━━━━━━━━━━━╋━━━━━━━━━━━━━━━┫\n",
      "┃ C(PVA)           ┃  57215.5 ┃    2 ┃   9.98802 ┃   0.000354328 ┃\n",
      "┣━━━━━━━━━━━━━━━━━━╋━━━━━━━━━━╋━━━━━━╋━━━━━━━━━━━╋━━━━━━━━━━━━━━━┫\n",
      "┃ C(CICLOS)        ┃  14635.8 ┃    2 ┃   2.55495 ┃   0.0917087   ┃\n",
      "┣━━━━━━━━━━━━━━━━━━╋━━━━━━━━━━╋━━━━━━╋━━━━━━━━━━━╋━━━━━━━━━━━━━━━┫\n",
      "┃ C(PVA):C(CICLOS) ┃  40009.1 ┃    4 ┃   3.49216 ┃   0.0164945   ┃\n",
      "┣━━━━━━━━━━━━━━━━━━╋━━━━━━━━━━╋━━━━━━╋━━━━━━━━━━━╋━━━━━━━━━━━━━━━┫\n",
      "┃ Residual         ┃ 103111   ┃   36 ┃ nan       ┃ nan           ┃\n",
      "┗━━━━━━━━━━━━━━━━━━┻━━━━━━━━━━┻━━━━━━┻━━━━━━━━━━━┻━━━━━━━━━━━━━━━┛\n"
     ]
    }
   ],
   "source": [
    "resistencia = df['Resistencia'].values\n",
    "\n",
    "resistencia_boxcox, lambda_trans = stats.boxcox(resistencia)\n",
    "\n",
    "df['Resistencia_t'] = resistencia_boxcox\n",
    "df[\"CICLOS_t\"] = (np.power(df[\"CICLOS\"] , lambda_trans) - 1)/lambda_trans\n",
    "df[\"PVA_t\"] = (np.power(df[\"PVA\"] , lambda_trans) - 1)/lambda_trans\n",
    "\n",
    "\n",
    "modelo_t = ols('Resistencia_t ~ C(PVA_t)*C(CICLOS_t)', data=df).fit()\n",
    "anova_t  = sm.stats.anova_lm(modelo_t, typ=3)\n",
    "\n",
    "print(tabulate(anova_table,headers='keys',tablefmt='heavy_grid'))\n",
    "\n"
   ]
  },
  {
   "cell_type": "markdown",
   "id": "5319ef25",
   "metadata": {},
   "source": [
    "tata se imprime para corroborar que el modelo aplicado no se vio afectado"
   ]
  },
  {
   "cell_type": "code",
   "execution_count": 59,
   "id": "966ee681",
   "metadata": {},
   "outputs": [
    {
     "name": "stdout",
     "output_type": "stream",
     "text": [
      "\n",
      " Análisis de normalidad por Shapiro-Wilk para 'Residuos transformados'\n",
      "Estadístico = 0.9495, p-valor = 0.0484\n"
     ]
    }
   ],
   "source": [
    "## test de normalidad a los residuos con la transformacion\n",
    "\n",
    "df[\"Residuos_t\"] = modelo_t.resid\n",
    "test_normalitySW(df['Residuos_t'],'Residuos transformados')\n"
   ]
  },
  {
   "cell_type": "markdown",
   "id": "d87ebeae",
   "metadata": {},
   "source": [
    "como aun no son normales los datos, probaremos por otro método para normalizarlos"
   ]
  },
  {
   "cell_type": "code",
   "execution_count": 66,
   "id": "afd20c1d",
   "metadata": {},
   "outputs": [
    {
     "name": "stdout",
     "output_type": "stream",
     "text": [
      "┏━━━━━━━━━━━━━━━━━━━━━━━━━━┳━━━━━━━━━━┳━━━━━━┳━━━━━━━━━━━┳━━━━━━━━━━━━━━━┓\n",
      "┃                          ┃   sum_sq ┃   df ┃         F ┃        PR(>F) ┃\n",
      "┣━━━━━━━━━━━━━━━━━━━━━━━━━━╋━━━━━━━━━━╋━━━━━━╋━━━━━━━━━━━╋━━━━━━━━━━━━━━━┫\n",
      "┃ Intercept                ┃ 349.558  ┃    1 ┃ 873.943   ┃   7.59025e-27 ┃\n",
      "┣━━━━━━━━━━━━━━━━━━━━━━━━━━╋━━━━━━━━━━╋━━━━━━╋━━━━━━━━━━━╋━━━━━━━━━━━━━━━┫\n",
      "┃ C(PVA_mle)               ┃   9.5391 ┃    2 ┃  11.9245  ┃   0.00010627  ┃\n",
      "┣━━━━━━━━━━━━━━━━━━━━━━━━━━╋━━━━━━━━━━╋━━━━━━╋━━━━━━━━━━━╋━━━━━━━━━━━━━━━┫\n",
      "┃ C(CICLOS_mle)            ┃   2.2754 ┃    2 ┃   2.84441 ┃   0.0713005   ┃\n",
      "┣━━━━━━━━━━━━━━━━━━━━━━━━━━╋━━━━━━━━━━╋━━━━━━╋━━━━━━━━━━━╋━━━━━━━━━━━━━━━┫\n",
      "┃ C(PVA_mle):C(CICLOS_mle) ┃   5.8146 ┃    4 ┃   3.63433 ┃   0.0137804   ┃\n",
      "┣━━━━━━━━━━━━━━━━━━━━━━━━━━╋━━━━━━━━━━╋━━━━━━╋━━━━━━━━━━━╋━━━━━━━━━━━━━━━┫\n",
      "┃ Residual                 ┃  14.3992 ┃   36 ┃ nan       ┃ nan           ┃\n",
      "┗━━━━━━━━━━━━━━━━━━━━━━━━━━┻━━━━━━━━━━┻━━━━━━┻━━━━━━━━━━━┻━━━━━━━━━━━━━━━┛\n"
     ]
    }
   ],
   "source": [
    "\n",
    "# 2. Calcula el λ que maximiza la verosimilitud\n",
    "\n",
    "lambda_opt_mle = stats.boxcox_normmax(y , method='mle')\n",
    "\n",
    "# 3. Transforma con ese λ\n",
    "\n",
    "df['Resistencia_bc_mle']= stats.boxcox(df['Resistencia'], lmbda=lambda_opt_mle)\n",
    "\n",
    "\n",
    "df[\"CICLOS_mle\"] = (np.power(df[\"CICLOS\"] , lambda_opt_mle) - 1)/lambda_opt_mle\n",
    "df[\"PVA_mle\"] = (np.power(df[\"PVA\"] , lambda_opt_mle) - 1)/lambda_opt_mle\n",
    "\n",
    "# 4. Ajusta de nuevo el modelo sobre Resistencia_bc_mle\n",
    "modelo_bc_mle = ols('Resistencia_bc_mle ~ C(PVA_mle)*C(CICLOS_mle)', data=df).fit()\n",
    "anova_bc_mle = sm.stats.anova_lm(modelo_bc_mle, typ=3)\n",
    "print(tabulate(anova_bc_mle, headers='keys', tablefmt='heavy_grid'))\n"
   ]
  },
  {
   "cell_type": "code",
   "execution_count": null,
   "id": "78b1af8b",
   "metadata": {},
   "outputs": [],
   "source": []
  }
 ],
 "metadata": {
  "kernelspec": {
   "display_name": "base",
   "language": "python",
   "name": "python3"
  },
  "language_info": {
   "codemirror_mode": {
    "name": "ipython",
    "version": 3
   },
   "file_extension": ".py",
   "mimetype": "text/x-python",
   "name": "python",
   "nbconvert_exporter": "python",
   "pygments_lexer": "ipython3",
   "version": "3.12.9"
  }
 },
 "nbformat": 4,
 "nbformat_minor": 5
}
